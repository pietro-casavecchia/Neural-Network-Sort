{
 "cells": [
  {
   "cell_type": "code",
   "execution_count": 1,
   "metadata": {},
   "outputs": [],
   "source": [
    "from numpy.random import randint \n",
    "import numpy as np\n",
    "from tensorflow import keras\n",
    "from keras import layers\n",
    "import matplotlib.pyplot as plt\n",
    "import csv"
   ]
  },
  {
   "cell_type": "markdown",
   "metadata": {},
   "source": [
    "## Parameters"
   ]
  },
  {
   "cell_type": "code",
   "execution_count": 2,
   "metadata": {},
   "outputs": [],
   "source": [
    "# parameters\n",
    "\n",
    "modelPath = \"\"\n",
    "modelName = \"NNMedian.keras\"\n",
    "\n",
    "n_arrays = 2_000\n",
    "array_length = 4\n",
    "max_digit = 10\n",
    "epochs = 150\n",
    "batch_size = 32\n",
    "neurons = 2\n",
    "n_layers = 2\n",
    "stop_perc = 5"
   ]
  },
  {
   "cell_type": "code",
   "execution_count": 3,
   "metadata": {},
   "outputs": [
    {
     "name": "stdout",
     "output_type": "stream",
     "text": [
      "number of permutation:  10000\n",
      "percentage of view: 10.0 %\n"
     ]
    }
   ],
   "source": [
    "# calculate number of permutation \n",
    "print(\"number of permutation: \", max_digit**array_length)\n",
    "print(\"percentage of view:\", (n_arrays * 0.5) * 100 / max_digit**array_length, \"%\")"
   ]
  },
  {
   "cell_type": "markdown",
   "metadata": {},
   "source": [
    "## Dataset"
   ]
  },
  {
   "cell_type": "code",
   "execution_count": 4,
   "metadata": {},
   "outputs": [],
   "source": [
    "# generate input and output data\n",
    "# give different max value \n",
    "\n",
    "input_arrays = []\n",
    "label_arrays = []\n",
    "for _ in range(n_arrays):\n",
    "    temp_array = randint(0, randint(max_digit // 2, max_digit), array_length)\n",
    "    temp_label = np.sort(temp_array)\n",
    "    \n",
    "    input_arrays.append(temp_array)\n",
    "    label_arrays.append(temp_label)"
   ]
  },
  {
   "cell_type": "code",
   "execution_count": 5,
   "metadata": {},
   "outputs": [
    {
     "name": "stdout",
     "output_type": "stream",
     "text": [
      "2000 2000\n",
      "[array([1, 5, 4, 1]), array([7, 6, 7, 6]), array([7, 0, 2, 6])]\n",
      "[array([1, 1, 4, 5]), array([6, 6, 7, 7]), array([0, 2, 6, 7])]\n"
     ]
    }
   ],
   "source": [
    "print(len(input_arrays), len(label_arrays))\n",
    "print(input_arrays[:3])\n",
    "print(label_arrays[:3])"
   ]
  },
  {
   "cell_type": "code",
   "execution_count": 6,
   "metadata": {},
   "outputs": [],
   "source": [
    "# normalize \n",
    "\n",
    "for i in range(len(input_arrays)):\n",
    "    input_arrays[i] = input_arrays[i].astype(\"float32\") / (max_digit - 1)\n",
    "    label_arrays[i] = label_arrays[i].astype(\"float32\") / (max_digit - 1)"
   ]
  },
  {
   "cell_type": "code",
   "execution_count": 7,
   "metadata": {},
   "outputs": [],
   "source": [
    "# make np array \n",
    "\n",
    "input_arrays = np.array(input_arrays)\n",
    "label_arrays = np.array(label_arrays)"
   ]
  },
  {
   "cell_type": "code",
   "execution_count": 8,
   "metadata": {},
   "outputs": [
    {
     "name": "stdout",
     "output_type": "stream",
     "text": [
      "[[0.11111111 0.5555556  0.44444445 0.11111111]]\n",
      "[[0.11111111 0.11111111 0.44444445 0.5555556 ]]\n"
     ]
    }
   ],
   "source": [
    "print(input_arrays[:1])\n",
    "print(label_arrays[:1])"
   ]
  },
  {
   "cell_type": "code",
   "execution_count": 9,
   "metadata": {},
   "outputs": [],
   "source": [
    "# split data \n",
    "\n",
    "n_train = int(0.5 * n_arrays)\n",
    "n_val = int(0.25 * n_arrays)\n",
    "n_eval = n_arrays - n_train - n_val\n",
    "\n",
    "data_test = input_arrays[:n_train]\n",
    "data_validation = input_arrays[n_train:(n_train+n_val)]\n",
    "data_evaluation = input_arrays[n_train + n_val:]\n",
    "\n",
    "label_test = label_arrays[:n_train]\n",
    "label_validation = label_arrays[n_train:(n_train+n_val)]\n",
    "label_evaluation = label_arrays[n_train + n_val:]"
   ]
  },
  {
   "cell_type": "code",
   "execution_count": 10,
   "metadata": {},
   "outputs": [
    {
     "name": "stdout",
     "output_type": "stream",
     "text": [
      "(1000, 4) (500, 4) (500, 4)\n",
      "(1000, 4) (500, 4) (500, 4)\n"
     ]
    }
   ],
   "source": [
    "print(data_test.shape, data_validation.shape, data_evaluation.shape)\n",
    "print(label_test.shape, label_validation.shape, label_evaluation.shape)"
   ]
  },
  {
   "cell_type": "markdown",
   "metadata": {},
   "source": [
    "## Model"
   ]
  },
  {
   "cell_type": "code",
   "execution_count": 11,
   "metadata": {},
   "outputs": [
    {
     "name": "stdout",
     "output_type": "stream",
     "text": [
      "Model: \"model\"\n",
      "_________________________________________________________________\n",
      " Layer (type)                Output Shape              Param #   \n",
      "=================================================================\n",
      " input_1 (InputLayer)        [(None, 4)]               0         \n",
      "                                                                 \n",
      " dense (Dense)               (None, 2)                 10        \n",
      "                                                                 \n",
      " dense_1 (Dense)             (None, 2)                 6         \n",
      "                                                                 \n",
      " dense_2 (Dense)             (None, 4)                 12        \n",
      "                                                                 \n",
      "=================================================================\n",
      "Total params: 28\n",
      "Trainable params: 28\n",
      "Non-trainable params: 0\n",
      "_________________________________________________________________\n"
     ]
    }
   ],
   "source": [
    "inputs = keras.Input(shape=(array_length))\n",
    "x = layers.Dense(neurons, activation=\"relu\") (inputs)\n",
    "x = layers.Dense(neurons, activation=\"relu\") (x)\n",
    "outputs = layers.Dense(array_length, activation=\"sigmoid\") (x)\n",
    "\n",
    "model = keras.Model(inputs=inputs, outputs=outputs)\n",
    "\n",
    "model.summary()"
   ]
  },
  {
   "cell_type": "code",
   "execution_count": 12,
   "metadata": {},
   "outputs": [],
   "source": [
    "model.compile(\n",
    "    optimizer=\"rmsprop\", \n",
    "    loss=\"binary_crossentropy\", \n",
    "    metrics=[\"mae\"]\n",
    "    )"
   ]
  },
  {
   "cell_type": "code",
   "execution_count": 13,
   "metadata": {},
   "outputs": [],
   "source": [
    "callbacks = [ \n",
    "    keras.callbacks.ModelCheckpoint(\n",
    "        filepath=modelPath + modelName, \n",
    "        monitor=\"val_mae\", \n",
    "        save_best_only=True),\n",
    "    keras.callbacks.EarlyStopping(\n",
    "        monitor=\"val_loss\",\n",
    "        patience=int(epochs/100*stop_perc))\n",
    "    ]   "
   ]
  },
  {
   "cell_type": "code",
   "execution_count": 14,
   "metadata": {},
   "outputs": [
    {
     "name": "stdout",
     "output_type": "stream",
     "text": [
      "Epoch 1/150\n",
      "32/32 [==============================] - 2s 17ms/step - loss: 0.6867 - mae: 0.2400 - val_loss: 0.6816 - val_mae: 0.2365\n",
      "Epoch 2/150\n",
      "32/32 [==============================] - 0s 4ms/step - loss: 0.6788 - mae: 0.2330 - val_loss: 0.6738 - val_mae: 0.2293\n",
      "Epoch 3/150\n",
      "32/32 [==============================] - 0s 4ms/step - loss: 0.6715 - mae: 0.2266 - val_loss: 0.6665 - val_mae: 0.2224\n",
      "Epoch 4/150\n",
      "32/32 [==============================] - 0s 4ms/step - loss: 0.6645 - mae: 0.2205 - val_loss: 0.6595 - val_mae: 0.2161\n",
      "Epoch 5/150\n",
      "32/32 [==============================] - 0s 4ms/step - loss: 0.6579 - mae: 0.2148 - val_loss: 0.6525 - val_mae: 0.2101\n",
      "Epoch 6/150\n",
      "32/32 [==============================] - 0s 4ms/step - loss: 0.6514 - mae: 0.2093 - val_loss: 0.6458 - val_mae: 0.2045\n",
      "Epoch 7/150\n",
      "32/32 [==============================] - 0s 6ms/step - loss: 0.6453 - mae: 0.2044 - val_loss: 0.6397 - val_mae: 0.1998\n",
      "Epoch 8/150\n",
      "32/32 [==============================] - 0s 7ms/step - loss: 0.6396 - mae: 0.1998 - val_loss: 0.6338 - val_mae: 0.1953\n",
      "Epoch 9/150\n",
      "32/32 [==============================] - 0s 9ms/step - loss: 0.6341 - mae: 0.1952 - val_loss: 0.6282 - val_mae: 0.1911\n",
      "Epoch 10/150\n",
      "32/32 [==============================] - 0s 7ms/step - loss: 0.6290 - mae: 0.1912 - val_loss: 0.6230 - val_mae: 0.1875\n",
      "Epoch 11/150\n",
      "32/32 [==============================] - 0s 7ms/step - loss: 0.6242 - mae: 0.1875 - val_loss: 0.6181 - val_mae: 0.1839\n",
      "Epoch 12/150\n",
      "32/32 [==============================] - 0s 7ms/step - loss: 0.6197 - mae: 0.1839 - val_loss: 0.6135 - val_mae: 0.1802\n",
      "Epoch 13/150\n",
      "32/32 [==============================] - 0s 8ms/step - loss: 0.6154 - mae: 0.1803 - val_loss: 0.6090 - val_mae: 0.1766\n",
      "Epoch 14/150\n",
      "32/32 [==============================] - 0s 5ms/step - loss: 0.6112 - mae: 0.1767 - val_loss: 0.6047 - val_mae: 0.1731\n",
      "Epoch 15/150\n",
      "32/32 [==============================] - 0s 4ms/step - loss: 0.6071 - mae: 0.1733 - val_loss: 0.6005 - val_mae: 0.1694\n",
      "Epoch 16/150\n",
      "32/32 [==============================] - 0s 7ms/step - loss: 0.6032 - mae: 0.1698 - val_loss: 0.5962 - val_mae: 0.1659\n",
      "Epoch 17/150\n",
      "32/32 [==============================] - 0s 5ms/step - loss: 0.5992 - mae: 0.1665 - val_loss: 0.5921 - val_mae: 0.1626\n",
      "Epoch 18/150\n",
      "32/32 [==============================] - 0s 4ms/step - loss: 0.5955 - mae: 0.1632 - val_loss: 0.5881 - val_mae: 0.1593\n",
      "Epoch 19/150\n",
      "32/32 [==============================] - 0s 4ms/step - loss: 0.5918 - mae: 0.1600 - val_loss: 0.5843 - val_mae: 0.1560\n",
      "Epoch 20/150\n",
      "32/32 [==============================] - 0s 4ms/step - loss: 0.5882 - mae: 0.1567 - val_loss: 0.5806 - val_mae: 0.1528\n",
      "Epoch 21/150\n",
      "32/32 [==============================] - 0s 4ms/step - loss: 0.5850 - mae: 0.1536 - val_loss: 0.5772 - val_mae: 0.1496\n",
      "Epoch 22/150\n",
      "32/32 [==============================] - 0s 3ms/step - loss: 0.5819 - mae: 0.1506 - val_loss: 0.5739 - val_mae: 0.1465\n",
      "Epoch 23/150\n",
      "32/32 [==============================] - 0s 4ms/step - loss: 0.5790 - mae: 0.1477 - val_loss: 0.5708 - val_mae: 0.1434\n",
      "Epoch 24/150\n",
      "32/32 [==============================] - 0s 3ms/step - loss: 0.5762 - mae: 0.1452 - val_loss: 0.5680 - val_mae: 0.1410\n",
      "Epoch 25/150\n",
      "32/32 [==============================] - 0s 4ms/step - loss: 0.5738 - mae: 0.1433 - val_loss: 0.5655 - val_mae: 0.1388\n",
      "Epoch 26/150\n",
      "32/32 [==============================] - 0s 4ms/step - loss: 0.5716 - mae: 0.1414 - val_loss: 0.5632 - val_mae: 0.1366\n",
      "Epoch 27/150\n",
      "32/32 [==============================] - 0s 4ms/step - loss: 0.5698 - mae: 0.1396 - val_loss: 0.5613 - val_mae: 0.1348\n",
      "Epoch 28/150\n",
      "32/32 [==============================] - 0s 5ms/step - loss: 0.5682 - mae: 0.1380 - val_loss: 0.5596 - val_mae: 0.1329\n",
      "Epoch 29/150\n",
      "32/32 [==============================] - 0s 6ms/step - loss: 0.5667 - mae: 0.1364 - val_loss: 0.5581 - val_mae: 0.1312\n",
      "Epoch 30/150\n",
      "32/32 [==============================] - 0s 4ms/step - loss: 0.5655 - mae: 0.1350 - val_loss: 0.5568 - val_mae: 0.1298\n",
      "Epoch 31/150\n",
      "32/32 [==============================] - 0s 6ms/step - loss: 0.5644 - mae: 0.1337 - val_loss: 0.5559 - val_mae: 0.1288\n",
      "Epoch 32/150\n",
      "32/32 [==============================] - 0s 5ms/step - loss: 0.5635 - mae: 0.1329 - val_loss: 0.5549 - val_mae: 0.1278\n",
      "Epoch 33/150\n",
      "32/32 [==============================] - 0s 4ms/step - loss: 0.5626 - mae: 0.1319 - val_loss: 0.5539 - val_mae: 0.1267\n",
      "Epoch 34/150\n",
      "32/32 [==============================] - 0s 4ms/step - loss: 0.5617 - mae: 0.1309 - val_loss: 0.5529 - val_mae: 0.1256\n",
      "Epoch 35/150\n",
      "32/32 [==============================] - 0s 4ms/step - loss: 0.5607 - mae: 0.1299 - val_loss: 0.5519 - val_mae: 0.1245\n",
      "Epoch 36/150\n",
      "32/32 [==============================] - 0s 6ms/step - loss: 0.5597 - mae: 0.1289 - val_loss: 0.5508 - val_mae: 0.1234\n",
      "Epoch 37/150\n",
      "32/32 [==============================] - 0s 8ms/step - loss: 0.5586 - mae: 0.1277 - val_loss: 0.5498 - val_mae: 0.1223\n",
      "Epoch 38/150\n",
      "32/32 [==============================] - 0s 6ms/step - loss: 0.5575 - mae: 0.1265 - val_loss: 0.5488 - val_mae: 0.1211\n",
      "Epoch 39/150\n",
      "32/32 [==============================] - 0s 4ms/step - loss: 0.5563 - mae: 0.1253 - val_loss: 0.5478 - val_mae: 0.1200\n",
      "Epoch 40/150\n",
      "32/32 [==============================] - 0s 4ms/step - loss: 0.5552 - mae: 0.1241 - val_loss: 0.5466 - val_mae: 0.1187\n",
      "Epoch 41/150\n",
      "32/32 [==============================] - 0s 4ms/step - loss: 0.5540 - mae: 0.1228 - val_loss: 0.5455 - val_mae: 0.1174\n",
      "Epoch 42/150\n",
      "32/32 [==============================] - 0s 4ms/step - loss: 0.5527 - mae: 0.1214 - val_loss: 0.5443 - val_mae: 0.1160\n",
      "Epoch 43/150\n",
      "32/32 [==============================] - 0s 4ms/step - loss: 0.5514 - mae: 0.1199 - val_loss: 0.5431 - val_mae: 0.1146\n",
      "Epoch 44/150\n",
      "32/32 [==============================] - 0s 4ms/step - loss: 0.5502 - mae: 0.1186 - val_loss: 0.5420 - val_mae: 0.1133\n",
      "Epoch 45/150\n",
      "32/32 [==============================] - 0s 4ms/step - loss: 0.5489 - mae: 0.1171 - val_loss: 0.5408 - val_mae: 0.1118\n",
      "Epoch 46/150\n",
      "32/32 [==============================] - 0s 4ms/step - loss: 0.5476 - mae: 0.1156 - val_loss: 0.5394 - val_mae: 0.1102\n",
      "Epoch 47/150\n",
      "32/32 [==============================] - 0s 5ms/step - loss: 0.5461 - mae: 0.1139 - val_loss: 0.5380 - val_mae: 0.1085\n",
      "Epoch 48/150\n",
      "32/32 [==============================] - 0s 4ms/step - loss: 0.5446 - mae: 0.1122 - val_loss: 0.5367 - val_mae: 0.1069\n",
      "Epoch 49/150\n",
      "32/32 [==============================] - 0s 4ms/step - loss: 0.5432 - mae: 0.1104 - val_loss: 0.5353 - val_mae: 0.1052\n",
      "Epoch 50/150\n",
      "32/32 [==============================] - 0s 4ms/step - loss: 0.5418 - mae: 0.1088 - val_loss: 0.5339 - val_mae: 0.1035\n",
      "Epoch 51/150\n",
      "32/32 [==============================] - 0s 4ms/step - loss: 0.5403 - mae: 0.1069 - val_loss: 0.5325 - val_mae: 0.1017\n",
      "Epoch 52/150\n",
      "32/32 [==============================] - 0s 4ms/step - loss: 0.5389 - mae: 0.1052 - val_loss: 0.5312 - val_mae: 0.1000\n",
      "Epoch 53/150\n",
      "32/32 [==============================] - 0s 3ms/step - loss: 0.5375 - mae: 0.1034 - val_loss: 0.5299 - val_mae: 0.0983\n",
      "Epoch 54/150\n",
      "32/32 [==============================] - 0s 3ms/step - loss: 0.5361 - mae: 0.1017 - val_loss: 0.5286 - val_mae: 0.0968\n",
      "Epoch 55/150\n",
      "32/32 [==============================] - 0s 3ms/step - loss: 0.5347 - mae: 0.1000 - val_loss: 0.5274 - val_mae: 0.0953\n",
      "Epoch 56/150\n",
      "32/32 [==============================] - 0s 4ms/step - loss: 0.5334 - mae: 0.0983 - val_loss: 0.5261 - val_mae: 0.0937\n",
      "Epoch 57/150\n",
      "32/32 [==============================] - 0s 4ms/step - loss: 0.5320 - mae: 0.0966 - val_loss: 0.5249 - val_mae: 0.0922\n",
      "Epoch 58/150\n",
      "32/32 [==============================] - 0s 4ms/step - loss: 0.5308 - mae: 0.0949 - val_loss: 0.5238 - val_mae: 0.0908\n",
      "Epoch 59/150\n",
      "32/32 [==============================] - 0s 4ms/step - loss: 0.5297 - mae: 0.0934 - val_loss: 0.5228 - val_mae: 0.0894\n",
      "Epoch 60/150\n",
      "32/32 [==============================] - 0s 4ms/step - loss: 0.5285 - mae: 0.0917 - val_loss: 0.5218 - val_mae: 0.0881\n",
      "Epoch 61/150\n",
      "32/32 [==============================] - 0s 4ms/step - loss: 0.5274 - mae: 0.0901 - val_loss: 0.5208 - val_mae: 0.0869\n",
      "Epoch 62/150\n",
      "32/32 [==============================] - 0s 4ms/step - loss: 0.5264 - mae: 0.0888 - val_loss: 0.5200 - val_mae: 0.0858\n",
      "Epoch 63/150\n",
      "32/32 [==============================] - 0s 4ms/step - loss: 0.5255 - mae: 0.0875 - val_loss: 0.5192 - val_mae: 0.0847\n",
      "Epoch 64/150\n",
      "32/32 [==============================] - 0s 4ms/step - loss: 0.5247 - mae: 0.0864 - val_loss: 0.5185 - val_mae: 0.0838\n",
      "Epoch 65/150\n",
      "32/32 [==============================] - 0s 3ms/step - loss: 0.5240 - mae: 0.0853 - val_loss: 0.5179 - val_mae: 0.0831\n",
      "Epoch 66/150\n",
      "32/32 [==============================] - 0s 3ms/step - loss: 0.5233 - mae: 0.0843 - val_loss: 0.5174 - val_mae: 0.0824\n",
      "Epoch 67/150\n",
      "32/32 [==============================] - 0s 4ms/step - loss: 0.5227 - mae: 0.0833 - val_loss: 0.5169 - val_mae: 0.0817\n",
      "Epoch 68/150\n",
      "32/32 [==============================] - 0s 4ms/step - loss: 0.5222 - mae: 0.0824 - val_loss: 0.5164 - val_mae: 0.0809\n",
      "Epoch 69/150\n",
      "32/32 [==============================] - 0s 4ms/step - loss: 0.5217 - mae: 0.0815 - val_loss: 0.5160 - val_mae: 0.0802\n",
      "Epoch 70/150\n",
      "32/32 [==============================] - 0s 3ms/step - loss: 0.5212 - mae: 0.0807 - val_loss: 0.5156 - val_mae: 0.0798\n",
      "Epoch 71/150\n",
      "32/32 [==============================] - 0s 4ms/step - loss: 0.5208 - mae: 0.0801 - val_loss: 0.5152 - val_mae: 0.0791\n",
      "Epoch 72/150\n",
      "32/32 [==============================] - 0s 4ms/step - loss: 0.5204 - mae: 0.0795 - val_loss: 0.5149 - val_mae: 0.0787\n",
      "Epoch 73/150\n",
      "32/32 [==============================] - 0s 4ms/step - loss: 0.5201 - mae: 0.0789 - val_loss: 0.5147 - val_mae: 0.0783\n",
      "Epoch 74/150\n",
      "32/32 [==============================] - 0s 4ms/step - loss: 0.5198 - mae: 0.0784 - val_loss: 0.5144 - val_mae: 0.0780\n",
      "Epoch 75/150\n",
      "32/32 [==============================] - 0s 4ms/step - loss: 0.5195 - mae: 0.0779 - val_loss: 0.5142 - val_mae: 0.0775\n",
      "Epoch 76/150\n",
      "32/32 [==============================] - 0s 4ms/step - loss: 0.5193 - mae: 0.0775 - val_loss: 0.5140 - val_mae: 0.0771\n",
      "Epoch 77/150\n",
      "32/32 [==============================] - 0s 4ms/step - loss: 0.5191 - mae: 0.0771 - val_loss: 0.5138 - val_mae: 0.0769\n",
      "Epoch 78/150\n",
      "32/32 [==============================] - 0s 4ms/step - loss: 0.5189 - mae: 0.0769 - val_loss: 0.5137 - val_mae: 0.0767\n",
      "Epoch 79/150\n",
      "32/32 [==============================] - 0s 3ms/step - loss: 0.5187 - mae: 0.0766 - val_loss: 0.5135 - val_mae: 0.0767\n",
      "Epoch 80/150\n",
      "32/32 [==============================] - 0s 4ms/step - loss: 0.5186 - mae: 0.0764 - val_loss: 0.5134 - val_mae: 0.0763\n",
      "Epoch 81/150\n",
      "32/32 [==============================] - 0s 4ms/step - loss: 0.5184 - mae: 0.0761 - val_loss: 0.5133 - val_mae: 0.0763\n",
      "Epoch 82/150\n",
      "32/32 [==============================] - 0s 3ms/step - loss: 0.5183 - mae: 0.0759 - val_loss: 0.5131 - val_mae: 0.0760\n",
      "Epoch 83/150\n",
      "32/32 [==============================] - 0s 3ms/step - loss: 0.5182 - mae: 0.0758 - val_loss: 0.5130 - val_mae: 0.0758\n",
      "Epoch 84/150\n",
      "32/32 [==============================] - 0s 3ms/step - loss: 0.5181 - mae: 0.0756 - val_loss: 0.5129 - val_mae: 0.0757\n",
      "Epoch 85/150\n",
      "32/32 [==============================] - 0s 4ms/step - loss: 0.5180 - mae: 0.0755 - val_loss: 0.5129 - val_mae: 0.0757\n",
      "Epoch 86/150\n",
      "32/32 [==============================] - 0s 4ms/step - loss: 0.5179 - mae: 0.0753 - val_loss: 0.5128 - val_mae: 0.0755\n",
      "Epoch 87/150\n",
      "32/32 [==============================] - 0s 4ms/step - loss: 0.5178 - mae: 0.0752 - val_loss: 0.5127 - val_mae: 0.0753\n",
      "Epoch 88/150\n",
      "32/32 [==============================] - 0s 4ms/step - loss: 0.5177 - mae: 0.0751 - val_loss: 0.5126 - val_mae: 0.0752\n",
      "Epoch 89/150\n",
      "32/32 [==============================] - 0s 3ms/step - loss: 0.5176 - mae: 0.0750 - val_loss: 0.5126 - val_mae: 0.0753\n",
      "Epoch 90/150\n",
      "32/32 [==============================] - 0s 3ms/step - loss: 0.5176 - mae: 0.0749 - val_loss: 0.5125 - val_mae: 0.0750\n",
      "Epoch 91/150\n",
      "32/32 [==============================] - 0s 3ms/step - loss: 0.5175 - mae: 0.0748 - val_loss: 0.5124 - val_mae: 0.0751\n",
      "Epoch 92/150\n",
      "32/32 [==============================] - 0s 3ms/step - loss: 0.5174 - mae: 0.0747 - val_loss: 0.5124 - val_mae: 0.0750\n",
      "Epoch 93/150\n",
      "32/32 [==============================] - 0s 3ms/step - loss: 0.5174 - mae: 0.0746 - val_loss: 0.5124 - val_mae: 0.0749\n",
      "Epoch 94/150\n",
      "32/32 [==============================] - 0s 4ms/step - loss: 0.5173 - mae: 0.0745 - val_loss: 0.5123 - val_mae: 0.0748\n",
      "Epoch 95/150\n",
      "32/32 [==============================] - 0s 4ms/step - loss: 0.5173 - mae: 0.0745 - val_loss: 0.5123 - val_mae: 0.0747\n",
      "Epoch 96/150\n",
      "32/32 [==============================] - 0s 4ms/step - loss: 0.5172 - mae: 0.0744 - val_loss: 0.5122 - val_mae: 0.0746\n",
      "Epoch 97/150\n",
      "32/32 [==============================] - 0s 3ms/step - loss: 0.5172 - mae: 0.0744 - val_loss: 0.5123 - val_mae: 0.0747\n",
      "Epoch 98/150\n",
      "32/32 [==============================] - 0s 4ms/step - loss: 0.5172 - mae: 0.0743 - val_loss: 0.5122 - val_mae: 0.0745\n",
      "Epoch 99/150\n",
      "32/32 [==============================] - 0s 4ms/step - loss: 0.5171 - mae: 0.0742 - val_loss: 0.5121 - val_mae: 0.0745\n",
      "Epoch 100/150\n",
      "32/32 [==============================] - 0s 4ms/step - loss: 0.5171 - mae: 0.0742 - val_loss: 0.5121 - val_mae: 0.0744\n",
      "Epoch 101/150\n",
      "32/32 [==============================] - 0s 3ms/step - loss: 0.5171 - mae: 0.0742 - val_loss: 0.5121 - val_mae: 0.0744\n",
      "Epoch 102/150\n",
      "32/32 [==============================] - 0s 4ms/step - loss: 0.5170 - mae: 0.0741 - val_loss: 0.5120 - val_mae: 0.0743\n",
      "Epoch 103/150\n",
      "32/32 [==============================] - 0s 5ms/step - loss: 0.5170 - mae: 0.0740 - val_loss: 0.5120 - val_mae: 0.0743\n",
      "Epoch 104/150\n",
      "32/32 [==============================] - 0s 4ms/step - loss: 0.5170 - mae: 0.0740 - val_loss: 0.5120 - val_mae: 0.0742\n",
      "Epoch 105/150\n",
      "32/32 [==============================] - 0s 3ms/step - loss: 0.5169 - mae: 0.0740 - val_loss: 0.5120 - val_mae: 0.0743\n",
      "Epoch 106/150\n",
      "32/32 [==============================] - 0s 3ms/step - loss: 0.5169 - mae: 0.0739 - val_loss: 0.5119 - val_mae: 0.0742\n",
      "Epoch 107/150\n",
      "32/32 [==============================] - 0s 3ms/step - loss: 0.5169 - mae: 0.0739 - val_loss: 0.5119 - val_mae: 0.0742\n",
      "Epoch 108/150\n",
      "32/32 [==============================] - 0s 3ms/step - loss: 0.5169 - mae: 0.0739 - val_loss: 0.5119 - val_mae: 0.0742\n",
      "Epoch 109/150\n",
      "32/32 [==============================] - 0s 4ms/step - loss: 0.5168 - mae: 0.0739 - val_loss: 0.5119 - val_mae: 0.0740\n",
      "Epoch 110/150\n",
      "32/32 [==============================] - 0s 4ms/step - loss: 0.5168 - mae: 0.0738 - val_loss: 0.5118 - val_mae: 0.0740\n",
      "Epoch 111/150\n",
      "32/32 [==============================] - 0s 4ms/step - loss: 0.5168 - mae: 0.0738 - val_loss: 0.5118 - val_mae: 0.0739\n",
      "Epoch 112/150\n",
      "32/32 [==============================] - 0s 3ms/step - loss: 0.5168 - mae: 0.0738 - val_loss: 0.5118 - val_mae: 0.0740\n",
      "Epoch 113/150\n",
      "32/32 [==============================] - 0s 3ms/step - loss: 0.5168 - mae: 0.0738 - val_loss: 0.5118 - val_mae: 0.0740\n",
      "Epoch 114/150\n",
      "32/32 [==============================] - 0s 3ms/step - loss: 0.5167 - mae: 0.0738 - val_loss: 0.5118 - val_mae: 0.0738\n",
      "Epoch 115/150\n",
      "32/32 [==============================] - 0s 5ms/step - loss: 0.5167 - mae: 0.0737 - val_loss: 0.5118 - val_mae: 0.0739\n",
      "Epoch 116/150\n",
      "32/32 [==============================] - 0s 6ms/step - loss: 0.5167 - mae: 0.0737 - val_loss: 0.5117 - val_mae: 0.0738\n",
      "Epoch 117/150\n",
      "32/32 [==============================] - 0s 10ms/step - loss: 0.5167 - mae: 0.0737 - val_loss: 0.5117 - val_mae: 0.0738\n",
      "Epoch 118/150\n",
      "32/32 [==============================] - 0s 15ms/step - loss: 0.5167 - mae: 0.0736 - val_loss: 0.5117 - val_mae: 0.0737\n",
      "Epoch 119/150\n",
      "32/32 [==============================] - 0s 8ms/step - loss: 0.5166 - mae: 0.0737 - val_loss: 0.5117 - val_mae: 0.0738\n",
      "Epoch 120/150\n",
      "32/32 [==============================] - 0s 9ms/step - loss: 0.5166 - mae: 0.0737 - val_loss: 0.5117 - val_mae: 0.0738\n",
      "Epoch 121/150\n",
      "32/32 [==============================] - 0s 9ms/step - loss: 0.5166 - mae: 0.0736 - val_loss: 0.5116 - val_mae: 0.0737\n",
      "Epoch 122/150\n",
      "32/32 [==============================] - 0s 9ms/step - loss: 0.5166 - mae: 0.0736 - val_loss: 0.5116 - val_mae: 0.0737\n",
      "Epoch 123/150\n",
      "32/32 [==============================] - 0s 12ms/step - loss: 0.5166 - mae: 0.0737 - val_loss: 0.5116 - val_mae: 0.0736\n",
      "Epoch 124/150\n",
      "32/32 [==============================] - 0s 10ms/step - loss: 0.5166 - mae: 0.0736 - val_loss: 0.5116 - val_mae: 0.0736\n",
      "Epoch 125/150\n",
      "32/32 [==============================] - 0s 7ms/step - loss: 0.5165 - mae: 0.0736 - val_loss: 0.5116 - val_mae: 0.0735\n",
      "Epoch 126/150\n",
      "32/32 [==============================] - 0s 8ms/step - loss: 0.5165 - mae: 0.0736 - val_loss: 0.5115 - val_mae: 0.0735\n",
      "Epoch 127/150\n",
      "32/32 [==============================] - 0s 8ms/step - loss: 0.5165 - mae: 0.0736 - val_loss: 0.5116 - val_mae: 0.0737\n",
      "Epoch 128/150\n",
      "32/32 [==============================] - 0s 7ms/step - loss: 0.5165 - mae: 0.0735 - val_loss: 0.5116 - val_mae: 0.0736\n",
      "Epoch 129/150\n",
      "32/32 [==============================] - 0s 9ms/step - loss: 0.5165 - mae: 0.0735 - val_loss: 0.5115 - val_mae: 0.0736\n",
      "Epoch 130/150\n",
      "32/32 [==============================] - 0s 8ms/step - loss: 0.5165 - mae: 0.0735 - val_loss: 0.5115 - val_mae: 0.0736\n",
      "Epoch 131/150\n",
      "32/32 [==============================] - 0s 9ms/step - loss: 0.5165 - mae: 0.0736 - val_loss: 0.5116 - val_mae: 0.0737\n",
      "Epoch 132/150\n",
      "32/32 [==============================] - 1s 19ms/step - loss: 0.5165 - mae: 0.0735 - val_loss: 0.5115 - val_mae: 0.0735\n",
      "Epoch 133/150\n",
      "32/32 [==============================] - 0s 15ms/step - loss: 0.5164 - mae: 0.0735 - val_loss: 0.5115 - val_mae: 0.0736\n",
      "Epoch 134/150\n",
      "32/32 [==============================] - 0s 11ms/step - loss: 0.5164 - mae: 0.0735 - val_loss: 0.5115 - val_mae: 0.0735\n",
      "Epoch 135/150\n",
      "32/32 [==============================] - 0s 6ms/step - loss: 0.5164 - mae: 0.0735 - val_loss: 0.5115 - val_mae: 0.0734\n",
      "Epoch 136/150\n",
      "32/32 [==============================] - 0s 5ms/step - loss: 0.5164 - mae: 0.0735 - val_loss: 0.5114 - val_mae: 0.0734\n",
      "Epoch 137/150\n",
      "32/32 [==============================] - 0s 4ms/step - loss: 0.5164 - mae: 0.0735 - val_loss: 0.5114 - val_mae: 0.0734\n",
      "Epoch 138/150\n",
      "32/32 [==============================] - 0s 3ms/step - loss: 0.5164 - mae: 0.0735 - val_loss: 0.5114 - val_mae: 0.0734\n",
      "Epoch 139/150\n",
      "32/32 [==============================] - 0s 4ms/step - loss: 0.5164 - mae: 0.0735 - val_loss: 0.5114 - val_mae: 0.0733\n",
      "Epoch 140/150\n",
      "32/32 [==============================] - 0s 3ms/step - loss: 0.5163 - mae: 0.0734 - val_loss: 0.5114 - val_mae: 0.0734\n",
      "Epoch 141/150\n",
      "32/32 [==============================] - 0s 3ms/step - loss: 0.5163 - mae: 0.0734 - val_loss: 0.5114 - val_mae: 0.0734\n",
      "Epoch 142/150\n",
      "32/32 [==============================] - 0s 3ms/step - loss: 0.5163 - mae: 0.0734 - val_loss: 0.5114 - val_mae: 0.0734\n",
      "Epoch 143/150\n",
      "32/32 [==============================] - 0s 3ms/step - loss: 0.5163 - mae: 0.0734 - val_loss: 0.5114 - val_mae: 0.0733\n",
      "Epoch 144/150\n",
      "32/32 [==============================] - 0s 3ms/step - loss: 0.5163 - mae: 0.0734 - val_loss: 0.5114 - val_mae: 0.0733\n",
      "Epoch 145/150\n",
      "32/32 [==============================] - 0s 4ms/step - loss: 0.5163 - mae: 0.0733 - val_loss: 0.5114 - val_mae: 0.0733\n",
      "Epoch 146/150\n",
      "32/32 [==============================] - 0s 3ms/step - loss: 0.5163 - mae: 0.0733 - val_loss: 0.5114 - val_mae: 0.0734\n",
      "Epoch 147/150\n",
      "32/32 [==============================] - 0s 3ms/step - loss: 0.5163 - mae: 0.0733 - val_loss: 0.5114 - val_mae: 0.0733\n",
      "Epoch 148/150\n",
      "32/32 [==============================] - 0s 3ms/step - loss: 0.5162 - mae: 0.0733 - val_loss: 0.5114 - val_mae: 0.0732\n",
      "Epoch 149/150\n",
      "32/32 [==============================] - 0s 3ms/step - loss: 0.5162 - mae: 0.0732 - val_loss: 0.5113 - val_mae: 0.0733\n",
      "Epoch 150/150\n",
      "32/32 [==============================] - 0s 3ms/step - loss: 0.5162 - mae: 0.0733 - val_loss: 0.5114 - val_mae: 0.0733\n"
     ]
    }
   ],
   "source": [
    "history = model.fit(\n",
    "    data_test, \n",
    "    label_test, \n",
    "    epochs=epochs, \n",
    "    batch_size=batch_size,\n",
    "    validation_data=(data_validation, label_validation),\n",
    "    callbacks=callbacks\n",
    "    )"
   ]
  },
  {
   "cell_type": "markdown",
   "metadata": {},
   "source": [
    "## Performance"
   ]
  },
  {
   "cell_type": "code",
   "execution_count": 15,
   "metadata": {},
   "outputs": [],
   "source": [
    "mae = history.history[\"mae\"]\n",
    "val_mae = history.history[\"val_mae\"]\n",
    "loss = history.history[\"loss\"]\n",
    "val_loss = history.history[\"val_loss\"]\n",
    "x_epochs = range(1, len(val_mae) + 1)"
   ]
  },
  {
   "cell_type": "code",
   "execution_count": 16,
   "metadata": {},
   "outputs": [
    {
     "data": {
      "image/png": "[encoded data removed]",
      "text/plain": [
       "<Figure size 640x480 with 1 Axes>"
      ]
     },
     "metadata": {},
     "output_type": "display_data"
    },
    {
     "data": {
      "image/png": "[encoded data removed]",
      "text/plain": [
       "<Figure size 640x480 with 1 Axes>"
      ]
     },
     "metadata": {},
     "output_type": "display_data"
    }
   ],
   "source": [
    "plt.plot(x_epochs, mae, \"bo\", label=\"Training mae\")\n",
    "plt.plot(x_epochs, val_mae, \"b\", label=\"Validation mae\")\n",
    "plt.title(\"Training and validation accuracy\")\n",
    "plt.legend()\n",
    "plt.figure()\n",
    "plt.plot(x_epochs, loss, \"bo\", label=\"Training loss\")\n",
    "plt.plot(x_epochs, val_loss, \"b\", label=\"Validation loss\")\n",
    "plt.title(\"Training and validation loss\")\n",
    "plt.legend()\n",
    "plt.show()"
   ]
  },
  {
   "cell_type": "code",
   "execution_count": 17,
   "metadata": {},
   "outputs": [
    {
     "name": "stdout",
     "output_type": "stream",
     "text": [
      "16/16 [==============================] - 0s 1ms/step - loss: 0.5183 - mae: 0.0736\n",
      "Evaluation accuracy: 0.074\n",
      "Evaluation mae denormalized: 0.66\n"
     ]
    }
   ],
   "source": [
    "model_best = keras.models.load_model(modelPath + modelName)\n",
    "\n",
    "eval_loss, eval_mae = model_best.evaluate(data_evaluation, label_evaluation)\n",
    "eval_mae_perc = eval_mae * (max_digit - 1)\n",
    "\n",
    "print(f\"Evaluation accuracy: {eval_mae:.3f}\")\n",
    "print(f\"Evaluation mae denormalized: {eval_mae_perc:.2f}\")"
   ]
  },
  {
   "cell_type": "code",
   "execution_count": 18,
   "metadata": {},
   "outputs": [
    {
     "name": "stdout",
     "output_type": "stream",
     "text": [
      "16/16 [==============================] - 0s 1ms/step\n"
     ]
    }
   ],
   "source": [
    "def denormalize(x):\n",
    "    x = x * (max_digit - 1)\n",
    "    return x\n",
    "\n",
    "def rounding(x):\n",
    "    x = round(x, 0)\n",
    "    return x\n",
    "\n",
    "predictions = model_best.predict(data_evaluation)\n",
    "targets = label_evaluation"
   ]
  },
  {
   "cell_type": "code",
   "execution_count": 19,
   "metadata": {},
   "outputs": [
    {
     "name": "stdout",
     "output_type": "stream",
     "text": [
      "500 500\n",
      "[[3.0, 5.0, 6.0, 7.0], [0.0, 1.0, 2.0, 4.0], [0.0, 1.0, 2.0, 4.0]]\n",
      "[[3.0, 4.0, 7.0, 8.0], [0.0, 2.0, 2.0, 3.0], [0.0, 1.0, 1.0, 4.0]]\n"
     ]
    }
   ],
   "source": [
    "# denormalize and round \n",
    "\n",
    "predictions_denorm = []\n",
    "targets_denorm = []\n",
    "for i in range(len(predictions)):\n",
    "    temp_pred_denorm_array = []\n",
    "    temp_targ_denorm_array = []\n",
    "    for ii in range(array_length):\n",
    "        temp_pred_denorm_array.append(rounding(denormalize(float(predictions[i][ii]))))\n",
    "        temp_targ_denorm_array.append(rounding(denormalize(targets[i][ii])))\n",
    "    predictions_denorm.append(temp_pred_denorm_array)\n",
    "    targets_denorm.append(temp_targ_denorm_array)\n",
    "\n",
    "print(len(predictions_denorm), len(targets_denorm))\n",
    "print(predictions_denorm[:3])\n",
    "print(targets_denorm[:3])"
   ]
  },
  {
   "cell_type": "code",
   "execution_count": 20,
   "metadata": {},
   "outputs": [],
   "source": [
    "# plot the prediction and target by merging all the arrays \n",
    "\n",
    "index_x = 0\n",
    "x_merged = []\n",
    "pred_merged = []\n",
    "targ_merged = []\n",
    "for i in range(len(predictions_denorm)):\n",
    "    for ii in range(array_length):\n",
    "        index_x += 1\n",
    "        x_merged.append(index_x)\n",
    "        pred_merged.append(predictions_denorm[i][ii])\n",
    "        targ_merged.append(targets_denorm[i][ii])"
   ]
  },
  {
   "cell_type": "code",
   "execution_count": 21,
   "metadata": {},
   "outputs": [
    {
     "name": "stdout",
     "output_type": "stream",
     "text": [
      "tot: 2000, hit: 951, miss: 1049, perc hit: 47.5%\n"
     ]
    }
   ],
   "source": [
    "# calculate error that are elements out of place \n",
    "\n",
    "miss = 0\n",
    "hit = 0\n",
    "tot = len(pred_merged)\n",
    "for i in range(len(pred_merged)):\n",
    "    if (pred_merged[i] == targ_merged[i]):\n",
    "        hit += 1\n",
    "    else:\n",
    "        miss += 1\n",
    "perc = round(hit * 100 / tot, 1)\n",
    "\n",
    "print(f\"tot: {tot}, hit: {hit}, miss: {miss}, perc hit: {perc}%\")"
   ]
  },
  {
   "cell_type": "code",
   "execution_count": 22,
   "metadata": {},
   "outputs": [
    {
     "name": "stdout",
     "output_type": "stream",
     "text": [
      "mean absolute error of every array: [0.75, 0.5, 0.25]\n",
      "max value of every array: [8.0, 3.0, 4.0]\n",
      "mae perc of every array: [9.375, 16.666666666666668, 6.25]\n",
      "\n",
      "mean absolute error: 0.606\n",
      "mean absolute error perc: 12.9%\n"
     ]
    }
   ],
   "source": [
    "# calculate mean absolute error \n",
    "# need to calculate the maximum for every array as they are different \n",
    "\n",
    "def mean_absolute_error_array(pre_denorm, tar_denorm):\n",
    "    N = len(pre_denorm)\n",
    "    errors_array = []\n",
    "    for i in range(N):\n",
    "        temp_error = 0\n",
    "        temp_sum = 0\n",
    "        n = array_length\n",
    "        for ii in range(n):\n",
    "            temp_sum += abs(pre_denorm[i][ii] - tar_denorm[i][ii])\n",
    "        temp_error = temp_sum / n\n",
    "        errors_array.append(temp_error)\n",
    "    return errors_array\n",
    "\n",
    "def mean_absolute_error(mae_array):\n",
    "    return np.mean(mae_array)\n",
    "\n",
    "def mean_absolute_error_perc(mae_array, tar_denorm):\n",
    "    # calcualte the max value \n",
    "    # take the target for the maximum \n",
    "    max_val_array = []\n",
    "    for i in range(len(tar_denorm)):\n",
    "        max_val_array.append(np.max(tar_denorm[i]))\n",
    "    \n",
    "    mae_perc_array = []\n",
    "    for i in range(len(tar_denorm)):\n",
    "        if max_val_array[i] != 0:\n",
    "            mae_perc_array.append(mae_array[i] * 100 / max_val_array[i])\n",
    "        else:\n",
    "            mae_perc_array.append(mae_array[i] * 100)\n",
    "    \n",
    "    mae_perc = np.mean(mae_perc_array)\n",
    "    \n",
    "    return max_val_array, mae_perc_array, mae_perc\n",
    "\n",
    "mae_array = mean_absolute_error_array(predictions_denorm, targets_denorm)\n",
    "mae = mean_absolute_error(mae_array)\n",
    "max_val_array, mae_perc_array, mae_perc = mean_absolute_error_perc(mae_array, targets_denorm)\n",
    "mae_perc = round(mae_perc, 1)\n",
    "\n",
    "# print(predictions_denorm[:3])\n",
    "# print(targets_denorm[:3])\n",
    "print(f\"mean absolute error of every array: {mae_array[:3]}\")\n",
    "print(f\"max value of every array: {max_val_array[:3]}\")\n",
    "print(f\"mae perc of every array: {mae_perc_array[:3]}\")\n",
    "print()\n",
    "print(f\"mean absolute error: {mae}\")\n",
    "print(f\"mean absolute error perc: {mae_perc}%\")"
   ]
  },
  {
   "cell_type": "code",
   "execution_count": 23,
   "metadata": {},
   "outputs": [
    {
     "name": "stdout",
     "output_type": "stream",
     "text": [
      "array_length:  4\n",
      "2000 2000\n",
      "[3.0, 5.0, 6.0, 7.0, 0.0, 1.0, 2.0, 4.0]\n",
      "[3.0, 4.0, 7.0, 8.0, 0.0, 2.0, 2.0, 3.0]\n"
     ]
    }
   ],
   "source": [
    "print(\"array_length: \", array_length)\n",
    "print(len(pred_merged), len(targ_merged))\n",
    "print(pred_merged[:(2*array_length)])\n",
    "print(targ_merged[:(2*array_length)])"
   ]
  },
  {
   "cell_type": "code",
   "execution_count": 24,
   "metadata": {},
   "outputs": [
    {
     "data": {
      "image/png": "[encoded data removed]",
      "text/plain": [
       "<Figure size 1000x600 with 1 Axes>"
      ]
     },
     "metadata": {},
     "output_type": "display_data"
    }
   ],
   "source": [
    "plot_length = array_length * 5\n",
    "\n",
    "plt.figure(figsize=(10, 6))\n",
    "plt.plot(x_merged[:plot_length], pred_merged[:plot_length], label=\"pred_denorm_round\")\n",
    "plt.plot(x_merged[:plot_length], targ_merged[:plot_length], label=\"target\")\n",
    "plt.legend(loc=\"upper left\")\n",
    "plt.show()"
   ]
  },
  {
   "cell_type": "markdown",
   "metadata": {},
   "source": [
    "## Custom Prediction"
   ]
  },
  {
   "cell_type": "code",
   "execution_count": 25,
   "metadata": {},
   "outputs": [],
   "source": [
    "def pred_norm(xs):\n",
    "    xs = xs.astype(\"float32\") / (max_digit - 1)\n",
    "    return xs\n",
    "\n",
    "def pred_denorm(xs):\n",
    "    xs = xs * (max_digit - 1)\n",
    "    return xs\n",
    "\n",
    "def pred_round(xs):\n",
    "    for i in range(len(xs)):\n",
    "        xs[i] = round(xs[i], 0)\n",
    "    return xs"
   ]
  },
  {
   "cell_type": "code",
   "execution_count": 26,
   "metadata": {},
   "outputs": [
    {
     "name": "stdout",
     "output_type": "stream",
     "text": [
      "1/1 [==============================] - 0s 27ms/step\n",
      "input: [[4 2 6 9]]\n",
      "target sorted: [[2 4 6 9]]\n",
      "prediction raw: [[0.40651318 0.5958576  0.73079723 0.7984272 ]]\n",
      "prediction opt: [4. 5. 7. 7.]\n"
     ]
    }
   ],
   "source": [
    "xs = [4, 2, 6, 9]\n",
    "# xs = randint(0, randint(max_digit // 2, max_digit), array_length)\n",
    "\n",
    "p_array = np.array([np.array(xs)])\n",
    "p_array_sorted = np.sort(p_array)\n",
    "\n",
    "# normalize before input \n",
    "predictions = model_best.predict(pred_norm(p_array))\n",
    "\n",
    "opt_predictions = pred_round(pred_denorm(predictions[0]))\n",
    "\n",
    "print(f\"input: {p_array}\")\n",
    "print(f\"target sorted: {p_array_sorted}\")\n",
    "print(f\"prediction raw: {predictions}\")\n",
    "print(f\"prediction opt: {opt_predictions}\")"
   ]
  },
  {
   "cell_type": "markdown",
   "metadata": {},
   "source": [
    "## Net Weights Biases"
   ]
  },
  {
   "cell_type": "code",
   "execution_count": 27,
   "metadata": {},
   "outputs": [
    {
     "name": "stdout",
     "output_type": "stream",
     "text": [
      "[[-0.21394069492816925, -1.6555784940719604], [-0.7052624821662903, -0.16084568202495575], [-0.6815492510795593, -0.20693667232990265], [-0.6777378916740417, -0.3010774552822113]]\n",
      "[1.3768173456192017, 0.9910971522331238]\n",
      "\n",
      "[[-0.17687058448791504, 2.528022289276123], [-0.4891108274459839, 1.171981930732727]]\n",
      "[0.0, 1.5325495041906834e-05]\n",
      "\n",
      "[[-0.4009826183319092, 0.6186366081237793, 0.7200775146484375, -0.5683023929595947], [-1.1328788995742798, -0.8289250135421753, -0.7386038899421692, -0.5874789953231812]]\n",
      "[-0.3783811330795288, 0.38824722170829773, 0.99868243932724, 1.3765027523040771]\n"
     ]
    }
   ],
   "source": [
    "w1 = model_best.layers[1].get_weights()[0].tolist()\n",
    "b1  = model_best.layers[1].get_weights()[1].tolist()\n",
    "w2 = model_best.layers[2].get_weights()[0].tolist()\n",
    "b2  = model_best.layers[2].get_weights()[1].tolist()\n",
    "w3 = model_best.layers[3].get_weights()[0].tolist()\n",
    "b3 = model_best.layers[3].get_weights()[1].tolist()\n",
    "\n",
    "print(w1)\n",
    "print(b1)\n",
    "print()\n",
    "print(w2)\n",
    "print(b2)\n",
    "print()\n",
    "print(w3)\n",
    "print(b3)"
   ]
  },
  {
   "cell_type": "code",
   "execution_count": 28,
   "metadata": {},
   "outputs": [],
   "source": [
    "# build header\n",
    "\n",
    "def build_header_element(L_n, n_neurons):\n",
    "    weight = \"w\" + str(L_n) + \"_\" + str(n_neurons)\n",
    "    bias = \"b\" + str(L_n) + \"_\" + str(n_neurons)\n",
    "    return weight, bias\n",
    "\n",
    "def add_to_header(net, L_n, n_neurons):\n",
    "    weight, bias = build_header_element(L_n, n_neurons)\n",
    "    net.append(weight)\n",
    "    net.append(bias)\n",
    "\n",
    "# write data \n",
    "def add_data(header, max_column, *parameters):\n",
    "\n",
    "    net_list = []\n",
    "\n",
    "    for i in range(len(parameters)):\n",
    "        temp_list = []\n",
    "        for ii in range(len(parameters[i])):\n",
    "            if type(parameters[i][ii]) is list:\n",
    "                for iii in range(len(parameters[i][ii])): \n",
    "                    temp_list.append(parameters[i][ii][iii])\n",
    "            else:\n",
    "                temp_list.append(parameters[i][ii])\n",
    "        net_list.append(temp_list)\n",
    "    \n",
    "    # print(header)\n",
    "    # print(net_list)\n",
    "    \n",
    "    with open(\"net_weight_bias.csv\", 'w') as f:\n",
    "        writer = csv.writer(f)\n",
    "        # header \n",
    "        writer.writerow(header)\n",
    "        # parameters\n",
    "        for i in range(max_column):\n",
    "            row = []\n",
    "            for ii in range(len(header)):\n",
    "                try:\n",
    "                    row.append(net_list[ii][i])\n",
    "                except:\n",
    "                    row.append(\"\")\n",
    "            writer.writerow(row)"
   ]
  },
  {
   "cell_type": "code",
   "execution_count": 29,
   "metadata": {},
   "outputs": [],
   "source": [
    "# add to csv\n",
    "\n",
    "net_header = []\n",
    "neurons = [2, 2, 4]\n",
    "max_column = 2 * 4\n",
    "\n",
    "add_to_header(net_header, 1, neurons[0])\n",
    "add_to_header(net_header, 2, neurons[1])\n",
    "add_to_header(net_header, 3, neurons[2])\n",
    "\n",
    "add_data(\n",
    "    net_header,\n",
    "    max_column,\n",
    "    w1, b1,\n",
    "    w2, b2,\n",
    "    w3, b3,\n",
    ")"
   ]
  }
 ],
 "metadata": {
  "kernelspec": {
   "display_name": "Python 3.10.7 64-bit ('3.10.7')",
   "language": "python",
   "name": "python3"
  },
  "language_info": {
   "codemirror_mode": {
    "name": "ipython",
    "version": 3
   },
   "file_extension": ".py",
   "mimetype": "text/x-python",
   "name": "python",
   "nbconvert_exporter": "python",
   "pygments_lexer": "ipython3",
   "version": "3.10.7"
  },
  "orig_nbformat": 4,
  "vscode": {
   "interpreter": {
    "hash": "1df7e7a21524990481c89befe908055cc716aa6c5ae7039c1cf73b52bf5a5625"
   }
  }
 },
 "nbformat": 4,
 "nbformat_minor": 2
}
